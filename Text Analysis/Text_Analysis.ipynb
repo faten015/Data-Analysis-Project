{
  "cells": [
    {
      "cell_type": "markdown",
      "metadata": {
        "id": "c1sAP7hJZ_b4"
      },
      "source": [
        "3. **Text Analysis** (Extra Model)\n",
        "Objective: Build a text classification model to categorize text data.\n",
        "Deliverables: - Python code implementing the chosen text classifier. - A short report explaining the text preprocessing, model performance, and insights gained from the analysis."
      ]
    },
    {
      "cell_type": "code",
      "execution_count": null,
      "metadata": {
        "colab": {
          "base_uri": "https://localhost:8080/"
        },
        "id": "pVUkpqArbHnU",
        "outputId": "4cae110c-c4a5-44bb-aef2-24fbf9b9d650"
      },
      "outputs": [
        {
          "output_type": "stream",
          "name": "stdout",
          "text": [
            "   id                                              title              author  \\\n",
            "0   0  House Dem Aide: We Didn’t Even See Comey’s Let...       Darrell Lucus   \n",
            "1   1  FLYNN: Hillary Clinton, Big Woman on Campus - ...     Daniel J. Flynn   \n",
            "2   2                  Why the Truth Might Get You Fired  Consortiumnews.com   \n",
            "3   3  15 Civilians Killed In Single US Airstrike Hav...     Jessica Purkiss   \n",
            "4   4  Iranian woman jailed for fictional unpublished...      Howard Portnoy   \n",
            "\n",
            "                                                text  label  \n",
            "0  House Dem Aide: We Didn’t Even See Comey’s Let...      1  \n",
            "1  Ever get the feeling your life circles the rou...      0  \n",
            "2  Why the Truth Might Get You Fired October 29, ...      1  \n",
            "3  Videos 15 Civilians Killed In Single US Airstr...      1  \n",
            "4  Print \\nAn Iranian woman has been sentenced to...      1  \n",
            "      id                                              title  \\\n",
            "0  20800  Specter of Trump Loosens Tongues, if Not Purse...   \n",
            "1  20801  Russian warships ready to strike terrorists ne...   \n",
            "2  20802  #NoDAPL: Native American Leaders Vow to Stay A...   \n",
            "3  20803  Tim Tebow Will Attempt Another Comeback, This ...   \n",
            "4  20804                    Keiser Report: Meme Wars (E995)   \n",
            "\n",
            "                    author                                               text  \n",
            "0         David Streitfeld  PALO ALTO, Calif.  —   After years of scorning...  \n",
            "1                      NaN  Russian warships ready to strike terrorists ne...  \n",
            "2            Common Dreams  Videos #NoDAPL: Native American Leaders Vow to...  \n",
            "3            Daniel Victor  If at first you don’t succeed, try a different...  \n",
            "4  Truth Broadcast Network  42 mins ago 1 Views 0 Comments 0 Likes 'For th...  \n",
            "      id  label\n",
            "0  20800      0\n",
            "1  20801      1\n",
            "2  20802      0\n",
            "3  20803      1\n",
            "4  20804      1\n"
          ]
        }
      ],
      "source": [
        "import pandas as pd\n",
        "\n",
        "\n",
        "# Reading data from CSV files, using the 'python' engine and error handling\n",
        "train_data = pd.read_csv('/content/train.csv', engine='python', on_bad_lines='skip') # Using 'python' engine and skipping bad lines\n",
        "test_data = pd.read_csv('/content/test.csv', engine='python', on_bad_lines='skip') # Using 'python' engine and skipping bad lines\n",
        "submit_data = pd.read_csv('/content/submit.csv', engine='python', on_bad_lines='skip') # Using 'python' engine and skipping bad lines\n",
        "\n",
        "# Quick look at the data\n",
        "print(train_data.head())\n",
        "print(test_data.head())\n",
        "print(submit_data.head())\n",
        "\n",
        "# Merging data or working with the relevant columns\n",
        "# Assuming there is a \"news\" column for the news and a \"label\" column for the classification\n",
        "X_train = train_data['title']\n",
        "\n",
        "y_train = train_data['label']\n",
        "\n",
        "X_test = test_data['title']"
      ]
    },
    {
      "cell_type": "code",
      "execution_count": null,
      "metadata": {
        "colab": {
          "base_uri": "https://localhost:8080/"
        },
        "id": "wSrDsz3L4l1Y",
        "outputId": "702ab1a9-65f4-4660-ab4e-e10592637e3c"
      },
      "outputs": [
        {
          "output_type": "stream",
          "name": "stdout",
          "text": [
            "First 5 rows of the training data:\n",
            "   id                                              title              author  \\\n",
            "0   0  House Dem Aide: We Didn’t Even See Comey’s Let...       Darrell Lucus   \n",
            "1   1  FLYNN: Hillary Clinton, Big Woman on Campus - ...     Daniel J. Flynn   \n",
            "2   2                  Why the Truth Might Get You Fired  Consortiumnews.com   \n",
            "3   3  15 Civilians Killed In Single US Airstrike Hav...     Jessica Purkiss   \n",
            "4   4  Iranian woman jailed for fictional unpublished...      Howard Portnoy   \n",
            "\n",
            "                                                text  label  \n",
            "0  House Dem Aide: We Didn’t Even See Comey’s Let...      1  \n",
            "1  Ever get the feeling your life circles the rou...      0  \n",
            "2  Why the Truth Might Get You Fired October 29, ...      1  \n",
            "3  Videos 15 Civilians Killed In Single US Airstr...      1  \n",
            "4  Print \\nAn Iranian woman has been sentenced to...      1  \n",
            "\n",
            "First 5 rows of the test data:\n",
            "      id                                              title  \\\n",
            "0  20800  Specter of Trump Loosens Tongues, if Not Purse...   \n",
            "1  20801  Russian warships ready to strike terrorists ne...   \n",
            "2  20802  #NoDAPL: Native American Leaders Vow to Stay A...   \n",
            "3  20803  Tim Tebow Will Attempt Another Comeback, This ...   \n",
            "4  20804                    Keiser Report: Meme Wars (E995)   \n",
            "\n",
            "                    author                                               text  \n",
            "0         David Streitfeld  PALO ALTO, Calif.  —   After years of scorning...  \n",
            "1                      NaN  Russian warships ready to strike terrorists ne...  \n",
            "2            Common Dreams  Videos #NoDAPL: Native American Leaders Vow to...  \n",
            "3            Daniel Victor  If at first you don’t succeed, try a different...  \n",
            "4  Truth Broadcast Network  42 mins ago 1 Views 0 Comments 0 Likes 'For th...  \n",
            "\n",
            "Information about the training data:\n",
            "<class 'pandas.core.frame.DataFrame'>\n",
            "RangeIndex: 1045 entries, 0 to 1044\n",
            "Data columns (total 5 columns):\n",
            " #   Column  Non-Null Count  Dtype \n",
            "---  ------  --------------  ----- \n",
            " 0   id      1045 non-null   int64 \n",
            " 1   title   1016 non-null   object\n",
            " 2   author  937 non-null    object\n",
            " 3   text    1043 non-null   object\n",
            " 4   label   1045 non-null   int64 \n",
            "dtypes: int64(2), object(3)\n",
            "memory usage: 40.9+ KB\n",
            "None\n",
            "\n",
            "Information about the test data:\n",
            "<class 'pandas.core.frame.DataFrame'>\n",
            "RangeIndex: 1340 entries, 0 to 1339\n",
            "Data columns (total 4 columns):\n",
            " #   Column  Non-Null Count  Dtype \n",
            "---  ------  --------------  ----- \n",
            " 0   id      1340 non-null   int64 \n",
            " 1   title   1308 non-null   object\n",
            " 2   author  1219 non-null   object\n",
            " 3   text    1337 non-null   object\n",
            "dtypes: int64(1), object(3)\n",
            "memory usage: 42.0+ KB\n",
            "None\n",
            "\n",
            "Descriptive statistics for numerical columns in the training data:\n",
            "                id        label\n",
            "count  1045.000000  1045.000000\n",
            "mean    522.000000     0.501435\n",
            "std     301.809819     0.500237\n",
            "min       0.000000     0.000000\n",
            "25%     261.000000     0.000000\n",
            "50%     522.000000     1.000000\n",
            "75%     783.000000     1.000000\n",
            "max    1044.000000     1.000000\n",
            "\n",
            "Descriptive statistics for numerical columns in the test data:\n",
            "                 id\n",
            "count   1340.000000\n",
            "mean   21469.500000\n",
            "std      386.968991\n",
            "min    20800.000000\n",
            "25%    21134.750000\n",
            "50%    21469.500000\n",
            "75%    21804.250000\n",
            "max    22139.000000\n",
            "\n",
            "Distribution of values in the 'label' column in the training data:\n",
            "label\n",
            "1    524\n",
            "0    521\n",
            "Name: count, dtype: int64\n",
            "First 5 rows of the training data:\n",
            "   id                                              title              author  \\\n",
            "0   0  House Dem Aide: We Didn’t Even See Comey’s Let...       Darrell Lucus   \n",
            "1   1  FLYNN: Hillary Clinton, Big Woman on Campus - ...     Daniel J. Flynn   \n",
            "2   2                  Why the Truth Might Get You Fired  Consortiumnews.com   \n",
            "3   3  15 Civilians Killed In Single US Airstrike Hav...     Jessica Purkiss   \n",
            "4   4  Iranian woman jailed for fictional unpublished...      Howard Portnoy   \n",
            "\n",
            "                                                text  label  \n",
            "0  House Dem Aide: We Didn’t Even See Comey’s Let...      1  \n",
            "1  Ever get the feeling your life circles the rou...      0  \n",
            "2  Why the Truth Might Get You Fired October 29, ...      1  \n",
            "3  Videos 15 Civilians Killed In Single US Airstr...      1  \n",
            "4  Print \\nAn Iranian woman has been sentenced to...      1  \n",
            "\n",
            "First 5 rows of the test data:\n",
            "      id                                              title  \\\n",
            "0  20800  Specter of Trump Loosens Tongues, if Not Purse...   \n",
            "1  20801  Russian warships ready to strike terrorists ne...   \n",
            "2  20802  #NoDAPL: Native American Leaders Vow to Stay A...   \n",
            "3  20803  Tim Tebow Will Attempt Another Comeback, This ...   \n",
            "4  20804                    Keiser Report: Meme Wars (E995)   \n",
            "\n",
            "                    author                                               text  \n",
            "0         David Streitfeld  PALO ALTO, Calif.  —   After years of scorning...  \n",
            "1                      NaN  Russian warships ready to strike terrorists ne...  \n",
            "2            Common Dreams  Videos #NoDAPL: Native American Leaders Vow to...  \n",
            "3            Daniel Victor  If at first you don’t succeed, try a different...  \n",
            "4  Truth Broadcast Network  42 mins ago 1 Views 0 Comments 0 Likes 'For th...  \n",
            "\n",
            "Information about the training data:\n",
            "<class 'pandas.core.frame.DataFrame'>\n",
            "RangeIndex: 1045 entries, 0 to 1044\n",
            "Data columns (total 5 columns):\n",
            " #   Column  Non-Null Count  Dtype \n",
            "---  ------  --------------  ----- \n",
            " 0   id      1045 non-null   int64 \n",
            " 1   title   1016 non-null   object\n",
            " 2   author  937 non-null    object\n",
            " 3   text    1043 non-null   object\n",
            " 4   label   1045 non-null   int64 \n",
            "dtypes: int64(2), object(3)\n",
            "memory usage: 40.9+ KB\n",
            "None\n",
            "\n",
            "Information about the test data:\n",
            "<class 'pandas.core.frame.DataFrame'>\n",
            "RangeIndex: 1340 entries, 0 to 1339\n",
            "Data columns (total 4 columns):\n",
            " #   Column  Non-Null Count  Dtype \n",
            "---  ------  --------------  ----- \n",
            " 0   id      1340 non-null   int64 \n",
            " 1   title   1308 non-null   object\n",
            " 2   author  1219 non-null   object\n",
            " 3   text    1337 non-null   object\n",
            "dtypes: int64(1), object(3)\n",
            "memory usage: 42.0+ KB\n",
            "None\n",
            "\n",
            "Descriptive statistics for numerical columns in the training data:\n",
            "                id        label\n",
            "count  1045.000000  1045.000000\n",
            "mean    522.000000     0.501435\n",
            "std     301.809819     0.500237\n",
            "min       0.000000     0.000000\n",
            "25%     261.000000     0.000000\n",
            "50%     522.000000     1.000000\n",
            "75%     783.000000     1.000000\n",
            "max    1044.000000     1.000000\n",
            "\n",
            "Descriptive statistics for numerical columns in the test data:\n",
            "                 id\n",
            "count   1340.000000\n",
            "mean   21469.500000\n",
            "std      386.968991\n",
            "min    20800.000000\n",
            "25%    21134.750000\n",
            "50%    21469.500000\n",
            "75%    21804.250000\n",
            "max    22139.000000\n",
            "\n",
            "Distribution of values in the 'label' column in the training data:\n",
            "label\n",
            "1    524\n",
            "0    521\n",
            "Name: count, dtype: int64\n",
            "\n",
            "Number of missing values in the training data\n",
            "id          0\n",
            "title      29\n",
            "author    108\n",
            "text        2\n",
            "label       0\n",
            "dtype: int64\n",
            "\n",
            "Number of missing values in the test data\n",
            "id          0\n",
            "title      32\n",
            "author    121\n",
            "text        3\n",
            "dtype: int64\n"
          ]
        }
      ],
      "source": [
        "# 1. Display the first 5 rows of the data\n",
        "import pandas as pd\n",
        "\n",
        "\n",
        "\n",
        "print(\"First 5 rows of the training data:\")\n",
        "print(train_data.head())\n",
        "\n",
        "print(\"\\nFirst 5 rows of the test data:\")\n",
        "print(test_data.head())\n",
        "\n",
        "# 2. Information about columns, data types, and non-null values\n",
        "print(\"\\nInformation about the training data:\")\n",
        "print(train_data.info())\n",
        "\n",
        "print(\"\\nInformation about the test data:\")\n",
        "print(test_data.info())\n",
        "\n",
        "# 3. Descriptive statistics for numerical data\n",
        "print(\"\\nDescriptive statistics for numerical columns in the training data:\")\n",
        "print(train_data.describe())\n",
        "\n",
        "print(\"\\nDescriptive statistics for numerical columns in the test data:\")\n",
        "print(test_data.describe())\n",
        "\n",
        "# 4. Distribution of values in the target column (label)\n",
        "if 'label' in train_data.columns:\n",
        "    print(\"\\nDistribution of values in the 'label' column in the training data:\")\n",
        "    print(train_data['label'].value_counts())\n",
        "# 1. Display the first 5 rows of the data\n",
        "import pandas as pd\n",
        "\n",
        "# Assuming your data is in a CSV file named 'train.csv'\n",
        "\n",
        "\n",
        "print(\"First 5 rows of the training data:\")\n",
        "print(train_data.head())\n",
        "\n",
        "print(\"\\nFirst 5 rows of the test data:\")\n",
        "print(test_data.head())\n",
        "\n",
        "# 2. Information about columns, data types, and non-null values\n",
        "print(\"\\nInformation about the training data:\")\n",
        "print(train_data.info())\n",
        "\n",
        "print(\"\\nInformation about the test data:\")\n",
        "print(test_data.info())\n",
        "\n",
        "# 3. Descriptive statistics for numerical data\n",
        "print(\"\\nDescriptive statistics for numerical columns in the training data:\")\n",
        "print(train_data.describe())\n",
        "\n",
        "print(\"\\nDescriptive statistics for numerical columns in the test data:\")\n",
        "print(test_data.describe())\n",
        "\n",
        "# 4. Distribution of values in the target column (label)\n",
        "if 'label' in train_data.columns:\n",
        "    print(\"\\nDistribution of values in the 'label' column in the training data:\")\n",
        "    print(train_data['label'].value_counts())\n",
        "\n",
        "# 5. Check for missing values (Null)\n",
        "print(\"\\nNumber of missing values in the training data\")\n",
        "print(train_data.isnull().sum())\n",
        "print(\"\\nNumber of missing values in the test data\")\n",
        "print(test_data.isnull().sum())"
      ]
    },
    {
      "cell_type": "code",
      "execution_count": null,
      "metadata": {
        "colab": {
          "base_uri": "https://localhost:8080/"
        },
        "id": "35b9cQ7C3OFZ",
        "outputId": "35bd3762-6158-4134-c31d-7130e0c36f11"
      },
      "outputs": [
        {
          "output_type": "stream",
          "name": "stdout",
          "text": [
            "[0 1 1 ... 1 0 0]\n"
          ]
        },
        {
          "output_type": "stream",
          "name": "stderr",
          "text": [
            "<ipython-input-3-cf020d4dccf0>:31: SettingWithCopyWarning: \n",
            "A value is trying to be set on a copy of a slice from a DataFrame.\n",
            "Try using .loc[row_indexer,col_indexer] = value instead\n",
            "\n",
            "See the caveats in the documentation: https://pandas.pydata.org/pandas-docs/stable/user_guide/indexing.html#returning-a-view-versus-a-copy\n",
            "  submit_data['label'] = y_pred\n"
          ]
        }
      ],
      "source": [
        "import pandas as pd\n",
        "from sklearn.feature_extraction.text import TfidfVectorizer\n",
        "from sklearn.linear_model import LogisticRegression\n",
        "from sklearn.pipeline import Pipeline\n",
        "#from sklearn.metrics import accuracy_score # This was not used so I removed it\n",
        "\n",
        "# Building a pipeline for text transformation and classification\n",
        "model = Pipeline([\n",
        "    ('tfidf', TfidfVectorizer(max_features=5000)),\n",
        "    ('classifier', LogisticRegression())\n",
        "])\n",
        "\n",
        "# Training the model using the training data\n",
        "# Filling NaN values in X_train with an empty string before fitting the model\n",
        "# Convert y_train to numeric, coerce errors to NaN, then fill NaN with a suitable value (e.g., -1)\n",
        "y_train = pd.to_numeric(y_train, errors='coerce').fillna(-1).astype(int)\n",
        "model.fit(X_train.fillna(''), y_train) # Changed here\n",
        "\n",
        "# Predicting labels using the test data\n",
        "# Filling NaN values in X_test with an empty string before prediction\n",
        "y_pred = model.predict(X_test.fillna('')) # Changed here\n",
        "\n",
        "# If the actual labels for the test data are available, we can check accuracy with this\n",
        "# print(f'Accuracy: {accuracy_score(y_test, y_pred)}')\n",
        "\n",
        "# Printing the final predictions\n",
        "print(y_pred)\n",
        "\n",
        "# Saving the final predictions to the submit.csv file\n",
        "submit_data = submit_data.iloc[:len(y_pred)]\n",
        "submit_data['label'] = y_pred\n",
        "\n",
        "submit_data.to_csv('/content/submit.csv', index=False)"
      ]
    },
    {
      "cell_type": "code",
      "execution_count": null,
      "metadata": {
        "colab": {
          "base_uri": "https://localhost:8080/",
          "height": 467
        },
        "id": "xZoDgDEq3vW6",
        "outputId": "48436b7b-81b8-4958-d0a2-495fca443344"
      },
      "outputs": [
        {
          "output_type": "display_data",
          "data": {
            "text/plain": [
              "<Figure size 640x480 with 1 Axes>"
            ],
            "image/png": "[encoded data removed]"
          },
          "metadata": {}
        }
      ],
      "source": [
        "import matplotlib.pyplot as plt\n",
        "\n",
        "# Distribution of labels in the data\n",
        "train_data['label'].value_counts().plot(kind='bar')\n",
        "plt.title('News Distribution in Training Data')\n",
        "plt.xlabel('News Label')\n",
        "plt.ylabel('Number of News Articles')\n",
        "plt.show()\n"
      ]
    },
    {
      "cell_type": "code",
      "execution_count": null,
      "metadata": {
        "colab": {
          "base_uri": "https://localhost:8080/"
        },
        "id": "nL03dFHY31Mh",
        "outputId": "19887ec7-cf4f-460e-a904-e9a9939de651"
      },
      "outputs": [
        {
          "output_type": "stream",
          "name": "stdout",
          "text": [
            "Best Parameters: {'classifier__C': 10, 'tfidf__ngram_range': (1, 1)}\n"
          ]
        }
      ],
      "source": [
        "import pandas as pd\n",
        "from sklearn.feature_extraction.text import TfidfVectorizer\n",
        "from sklearn.linear_model import LogisticRegression\n",
        "from sklearn.pipeline import Pipeline\n",
        "from sklearn.model_selection import GridSearchCV\n",
        "#from sklearn.metrics import accuracy_score # This was not used so I removed it\n",
        "\n",
        "# Building a pipeline for text transformation and classification\n",
        "model = Pipeline([\n",
        "    ('tfidf', TfidfVectorizer(max_features=5000)),\n",
        "    ('classifier', LogisticRegression())\n",
        "])\n",
        "\n",
        "# Define the parameter grid for GridSearchCV\n",
        "param_grid = {\n",
        "    'tfidf__ngram_range': [(1, 1), (1, 2)],  # Example: unigrams and bigrams\n",
        "    'classifier__C': [0.1, 1, 10],  # Example: regularization strength\n",
        "}\n",
        "\n",
        "# Training the model using the training data\n",
        "# Filling NaN values in X_train with an empty string before fitting the model\n",
        "# Replacing NaN values with empty strings before fitting GridSearchCV\n",
        "X_train = X_train.fillna('')  # Fill NaN values in X_train\n",
        "grid_search = GridSearchCV(model, param_grid, cv=5) # Now using the defined param_grid\n",
        "grid_search.fit(X_train, y_train) # Changed here\n",
        "\n",
        "# Displaying the best parameters\n",
        "print(f'Best Parameters: {grid_search.best_params_}')\n",
        "\n",
        "# Predicting using the optimized model\n",
        "# Filling NaN values in X_test with an empty string before prediction\n",
        "# Replacing NaN values with empty strings before predicting using the optimized model\n",
        "X_test = X_test.fillna('') # Fill NaN values in X_test\n",
        "y_pred_optimized = grid_search.predict(X_test)"
      ]
    },
    {
      "cell_type": "code",
      "execution_count": null,
      "metadata": {
        "colab": {
          "base_uri": "https://localhost:8080/"
        },
        "id": "sKB2Tzyr38wx",
        "outputId": "1fc56cdd-51ba-4ef0-870e-2b5a8117d21d"
      },
      "outputs": [
        {
          "output_type": "stream",
          "name": "stdout",
          "text": [
            "Forecast: [0 1 0 ... 0 0 0]\n"
          ]
        }
      ],
      "source": [
        "from sklearn.naive_bayes import MultinomialNB\n",
        "from sklearn.metrics import accuracy_score\n",
        "from sklearn.feature_extraction.text import TfidfVectorizer # Importing TfidfVectorizer\n",
        "\n",
        "# Assuming X_train is your training data (text data)\n",
        "# Create a TfidfVectorizer object\n",
        "vectorizer = TfidfVectorizer()\n",
        "\n",
        "# Fit and transform the training data to create TF-IDF features\n",
        "X_train_tfidf = vectorizer.fit_transform(X_train)  # Creating X_train_tfidf\n",
        "\n",
        "# Transform the test data using the same vectorizer\n",
        "X_test_tfidf = vectorizer.transform(X_test) # Creating X_test_tfidf\n",
        "\n",
        "\n",
        "# Build a Naive Bayes model\n",
        "model = MultinomialNB()\n",
        "\n",
        "# Train the model on the training data\n",
        "model.fit(X_train_tfidf, y_train)\n",
        "\n",
        "# Predict labels for test data\n",
        "y_pred = model.predict(X_test_tfidf)\n",
        "\n",
        "# Show expected results\n",
        "print(\"Forecast:\", y_pred)"
      ]
    },
    {
      "cell_type": "code",
      "execution_count": null,
      "metadata": {
        "colab": {
          "base_uri": "https://localhost:8080/"
        },
        "id": "D-xnilTE4AoB",
        "outputId": "01950bf6-2634-4cf4-a3ec-93c81164d3ed"
      },
      "outputs": [
        {
          "output_type": "stream",
          "name": "stdout",
          "text": [
            "Results saved to submit.csv\n"
          ]
        }
      ],
      "source": [
        "# Add predictions to submit.csv\n",
        "submit_data['label'] = y_pred\n",
        "\n",
        "# Save results to submit.csv file\n",
        "submit_data.to_csv('/content/submit.csv', index=False)\n",
        "\n",
        "print(\"Results saved to submit.csv\")"
      ]
    },
    {
      "cell_type": "code",
      "execution_count": null,
      "metadata": {
        "colab": {
          "base_uri": "https://localhost:8080/"
        },
        "id": "lWlNkAOQ4F34",
        "outputId": "1a4e82f6-b7c3-4d29-9749-5435395f9672"
      },
      "outputs": [
        {
          "output_type": "stream",
          "name": "stdout",
          "text": [
            "Best parameter: {'C': 10}\n",
            "Results saved using Logistic Regression in submit_logistic.csv\n"
          ]
        }
      ],
      "source": [
        "from sklearn.linear_model import LogisticRegression\n",
        "from sklearn.model_selection import GridSearchCV\n",
        "\n",
        "# Build a Logistic Regression model\n",
        "log_model = LogisticRegression()\n",
        "\n",
        "# Optimize parameters using GridSearchCV\n",
        "param_grid = {'C': [0.1, 1, 10]} # Experiment with different parameters\n",
        "grid_search = GridSearchCV(log_model, param_grid, cv=5)\n",
        "grid_search.fit(X_train_tfidf, y_train)\n",
        "\n",
        "# Best parameter found\n",
        "print(\"Best parameter:\", grid_search.best_params_)\n",
        "\n",
        "# Predict using the improved model\n",
        "y_pred_log = grid_search.predict(X_test_tfidf)\n",
        "\n",
        "# Save the new results in submit.csv\n",
        "submit_data['label'] = y_pred_log\n",
        "submit_data.to_csv('submit_logistic.csv', index=False)\n",
        "\n",
        "print(\"Results saved using Logistic Regression in submit_logistic.csv\")"
      ]
    },
    {
      "cell_type": "code",
      "execution_count": null,
      "metadata": {
        "colab": {
          "base_uri": "https://localhost:8080/"
        },
        "id": "XWYhk7_i4JaZ",
        "outputId": "20d46e3b-d211-4633-98cc-60700fbdb7ac"
      },
      "outputs": [
        {
          "output_type": "stream",
          "name": "stdout",
          "text": [
            "Results have been saved using Random Forest in submit_random_forest.csv\n"
          ]
        }
      ],
      "source": [
        "from sklearn.ensemble import RandomForestClassifier\n",
        "\n",
        "# Build the RandomForestClassifier model\n",
        "rf_model = RandomForestClassifier(n_estimators=100, random_state=42)\n",
        "\n",
        "# Train the model on the training data\n",
        "rf_model.fit(X_train_tfidf, y_train)\n",
        "\n",
        "# Predict the labels for the test data\n",
        "y_pred_rf = rf_model.predict(X_test_tfidf)\n",
        "\n",
        "# Save the predictions in the submit.csv file\n",
        "submit_data['label'] = y_pred_rf\n",
        "submit_data.to_csv('submit_random_forest.csv', index=False)\n",
        "\n",
        "print(\"Results have been saved using Random Forest in submit_random_forest.csv\")\n"
      ]
    },
    {
      "cell_type": "code",
      "execution_count": null,
      "metadata": {
        "colab": {
          "base_uri": "https://localhost:8080/"
        },
        "id": "x9Z4Oebh4Okw",
        "outputId": "d92fdd0b-16c1-461c-9f09-0b3c76ae99f5"
      },
      "outputs": [
        {
          "output_type": "stream",
          "name": "stdout",
          "text": [
            "Confusion Matrix:\n",
            "[[518   3]\n",
            " [  2 522]]\n",
            "Classification Report:\n",
            "              precision    recall  f1-score   support\n",
            "\n",
            "           0       1.00      0.99      1.00       521\n",
            "           1       0.99      1.00      1.00       524\n",
            "\n",
            "    accuracy                           1.00      1045\n",
            "   macro avg       1.00      1.00      1.00      1045\n",
            "weighted avg       1.00      1.00      1.00      1045\n",
            "\n"
          ]
        }
      ],
      "source": [
        "from sklearn.metrics import classification_report, confusion_matrix\n",
        "\n",
        "# Predict the labels on the training data (as an example)\n",
        "y_train_pred = model.predict(X_train_tfidf)\n",
        "\n",
        "# Print the results\n",
        "print(\"Confusion Matrix:\")\n",
        "print(confusion_matrix(y_train, y_train_pred))\n",
        "\n",
        "print(\"Classification Report:\")\n",
        "print(classification_report(y_train, y_train_pred))\n"
      ]
    },
    {
      "cell_type": "code",
      "execution_count": null,
      "metadata": {
        "colab": {
          "base_uri": "https://localhost:8080/"
        },
        "id": "XCoc_OLB4RZp",
        "outputId": "cea3faa0-e7a8-4511-b8a1-25e4adcb4dec"
      },
      "outputs": [
        {
          "output_type": "stream",
          "name": "stdout",
          "text": [
            "Model performance using cross-validation: [0.94258373 0.92822967 0.93301435 0.93779904 0.91866029]\n",
            "Average performance: 0.9320574162679426\n"
          ]
        }
      ],
      "source": [
        "from sklearn.model_selection import cross_val_score\n",
        "\n",
        "# Cross-validation for the Random Forest model\n",
        "scores = cross_val_score(RandomForestClassifier(n_estimators=100), X_train_tfidf, y_train, cv=5)\n",
        "\n",
        "print(\"Model performance using cross-validation:\", scores)\n",
        "print(\"Average performance:\", scores.mean())\n"
      ]
    },
    {
      "cell_type": "code",
      "execution_count": null,
      "metadata": {
        "colab": {
          "base_uri": "https://localhost:8080/",
          "height": 410
        },
        "id": "xWSOLiuX4XQj",
        "outputId": "2f4045f3-135a-4641-9aa5-0378d4d79784"
      },
      "outputs": [
        {
          "output_type": "display_data",
          "data": {
            "text/plain": [
              "<Figure size 600x400 with 1 Axes>"
            ],
            "image/png": "[encoded data removed]"
          },
          "metadata": {}
        }
      ],
      "source": [
        "import matplotlib.pyplot as plt\n",
        "import seaborn as sns\n",
        "\n",
        "# Distribution of labels in the training data\n",
        "plt.figure(figsize=(6, 4))\n",
        "sns.countplot(x='label', data=train_data)\n",
        "plt.title('Distribution of Real and Fake News')\n",
        "plt.xlabel('Label')\n",
        "plt.ylabel('Number of News Articles')\n",
        "plt.show()\n"
      ]
    },
    {
      "cell_type": "code",
      "execution_count": null,
      "metadata": {
        "colab": {
          "base_uri": "https://localhost:8080/",
          "height": 671
        },
        "id": "l_Vibs-94ZBb",
        "outputId": "d1c92784-c3aa-4553-fe8f-dfcae817d899"
      },
      "outputs": [
        {
          "output_type": "stream",
          "name": "stderr",
          "text": [
            "<ipython-input-15-21238a9fd403>:13: FutureWarning: \n",
            "\n",
            "Passing `palette` without assigning `hue` is deprecated and will be removed in v0.14.0. Assign the `y` variable to `hue` and set `legend=False` for the same effect.\n",
            "\n",
            "  sns.barplot(x='idf', y='word', data=tfidf_df, palette='viridis')\n"
          ]
        },
        {
          "output_type": "display_data",
          "data": {
            "text/plain": [
              "<Figure size 1000x600 with 1 Axes>"
            ],
            "image/png": "[encoded data removed]"
          },
          "metadata": {}
        }
      ],
      "source": [
        "\n",
        "# Extract words and values ​​from TF-IDF\n",
        "tfidf_values = vectorizer.idf_\n",
        "tfidf_features = vectorizer.get_feature_names_out()\n",
        "\n",
        "# Convert values ​​to DataFrame\n",
        "tfidf_df = pd.DataFrame({'word': tfidf_features, 'idf': tfidf_values})\n",
        "\n",
        "# Display top words by TF-IDF\n",
        "tfidf_df = tfidf_df.sort_values(by='idf', ascending=False).head(10)\n",
        "\n",
        "# Visualization\n",
        "plt.figure(figsize=(10, 6))\n",
        "sns.barplot(x='idf', y='word', data=tfidf_df, palette='viridis')\n",
        "plt.title('Top words according to TF-IDF values')\n",
        "plt.xlabel('IDF value')\n",
        "plt.ylabel('word')\n",
        "plt.show()\n"
      ]
    },
    {
      "cell_type": "code",
      "execution_count": null,
      "metadata": {
        "colab": {
          "base_uri": "https://localhost:8080/",
          "height": 564
        },
        "id": "AfWATj_j4dRJ",
        "outputId": "2468d31d-be44-40ae-fea2-a682779f313a"
      },
      "outputs": [
        {
          "output_type": "display_data",
          "data": {
            "text/plain": [
              "<Figure size 800x600 with 1 Axes>"
            ],
            "image/png": "[encoded data removed]"
          },
          "metadata": {}
        }
      ],
      "source": [
        "from sklearn.model_selection import cross_val_score\n",
        "import numpy as np\n",
        "\n",
        "# Calculate cross-validation results\n",
        "cross_val_results = cross_val_score(RandomForestClassifier(n_estimators=100), X_train_tfidf, y_train, cv=5)\n",
        "\n",
        "# Visualization of results\n",
        "plt.figure(figsize=(8, 6))\n",
        "plt.plot(np.arange(1, 6), cross_val_results, marker='o', linestyle='--', color='b')\n",
        "plt.title('Cross Validation Results')\n",
        "plt.xlabel('Fold')\n",
        "plt.ylabel('Model accuracy')\n",
        "plt.show()"
      ]
    },
    {
      "cell_type": "code",
      "execution_count": null,
      "metadata": {
        "id": "6erdoigT4mf6"
      },
      "outputs": [],
      "source": []
    }
  ],
  "metadata": {
    "accelerator": "GPU",
    "colab": {
      "gpuType": "T4",
      "provenance": []
    },
    "kernelspec": {
      "display_name": "Python 3",
      "name": "python3"
    },
    "language_info": {
      "name": "python"
    }
  },
  "nbformat": 4,
  "nbformat_minor": 0
}